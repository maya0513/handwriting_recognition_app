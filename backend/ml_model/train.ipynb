{
 "cells": [
  {
   "cell_type": "code",
   "execution_count": 1,
   "metadata": {},
   "outputs": [],
   "source": [
    "# 必要なライブラリをインポートします\n",
    "import torch  # PyTorchの主要ライブラリ\n",
    "import torch.nn as nn  # ニューラルネットワークモジュール\n",
    "import torch.optim as optim  # 最適化アルゴリズム\n",
    "from torch.utils.data import DataLoader  # データローダー\n",
    "from torchvision import datasets, transforms  # 画像データセットと変換\n",
    "from timm.models.swin_transformer import SwinTransformer  # Swin Transformerモデル\n",
    "import matplotlib.pyplot as plt  # グラフ描画ライブラリ\n",
    "from ipywidgets import IntProgress  # プログレスバーウィジェット\n",
    "from IPython.display import display  # IPython表示機能"
   ]
  },
  {
   "cell_type": "code",
   "execution_count": 2,
   "metadata": {},
   "outputs": [
    {
     "name": "stdout",
     "output_type": "stream",
     "text": [
      "Using device: cuda\n"
     ]
    }
   ],
   "source": [
    "# CUDA が利用可能か確認\n",
    "device = torch.device(\"cuda\" if torch.cuda.is_available() else \"cpu\")\n",
    "print(f\"Using device: {device}\")"
   ]
  },
  {
   "cell_type": "code",
   "execution_count": 3,
   "metadata": {},
   "outputs": [],
   "source": [
    "# ハイパーパラメータを設定します\n",
    "batch_size = 64  # バッチサイズ：一度に処理するデータ数\n",
    "learning_rate = 0.001  # 学習率：最適化の歩幅\n",
    "num_epochs = 10  # エポック数：全データセットを何回学習するか"
   ]
  },
  {
   "cell_type": "code",
   "execution_count": 4,
   "metadata": {},
   "outputs": [],
   "source": [
    "# データの前処理を定義します\n",
    "transform = transforms.Compose(\n",
    "    [\n",
    "        transforms.Resize((32, 32)),  # 画像を32x32にリサイズ\n",
    "        transforms.ToTensor(),  # 画像をテンソルに変換\n",
    "        transforms.Normalize(\n",
    "            (0.1307,), (0.3081,)\n",
    "        ),  # MNISTデータセットの平均と標準偏差で正規化\n",
    "    ]\n",
    ")"
   ]
  },
  {
   "cell_type": "code",
   "execution_count": 5,
   "metadata": {},
   "outputs": [],
   "source": [
    "# MNISTデータセットの読み込み\n",
    "train_dataset = datasets.MNIST(\n",
    "    root=\"./data\", train=True, download=True, transform=transform\n",
    ")\n",
    "test_dataset = datasets.MNIST(\n",
    "    root=\"./data\", train=False, download=True, transform=transform\n",
    ")\n",
    "\n",
    "train_loader = DataLoader(train_dataset, batch_size=64, shuffle=True)\n",
    "test_loader = DataLoader(test_dataset, batch_size=64, shuffle=False)\n"
   ]
  },
  {
   "cell_type": "code",
   "execution_count": 6,
   "metadata": {},
   "outputs": [],
   "source": [
    "# Swin Transformerモデルを定義します\n",
    "class SwinTransformerForMNIST(nn.Module):\n",
    "    def __init__(self):\n",
    "        super(SwinTransformerForMNIST, self).__init__()\n",
    "        self.swin = SwinTransformer(\n",
    "            img_size=32,  # 入力画像サイズ\n",
    "            patch_size=2,  # パッチサイズ\n",
    "            in_chans=1,  # 入力チャンネル数（グレースケール）\n",
    "            num_classes=10,  # 出力クラス数（0-9の数字）\n",
    "            embed_dim=32,  # 埋め込みベクトルの次元\n",
    "            depths=[2, 2, 2],  # 各段階のTransformerブロック数\n",
    "            num_heads=[2, 4, 8],  # 各段階のアテンションヘッド数\n",
    "            window_size=4,  # ウィンドウサイズ\n",
    "            mlp_ratio=2.0,  # MLPの拡大率\n",
    "            qkv_bias=True,  # クエリ、キー、バリューにバイアスを使用\n",
    "            drop_rate=0.1,  # ドロップアウト率\n",
    "            attn_drop_rate=0.1,  # アテンションのドロップアウト率\n",
    "            drop_path_rate=0.1,  # パスのドロップアウト率\n",
    "        )\n",
    "\n",
    "    def forward(self, x):\n",
    "        return self.swin(x)  # モデルの順伝播"
   ]
  },
  {
   "cell_type": "code",
   "execution_count": 7,
   "metadata": {},
   "outputs": [],
   "source": [
    "# モデル、損失関数、オプティマイザを初期化します\n",
    "model = SwinTransformerForMNIST().to(device)\n",
    "criterion = nn.CrossEntropyLoss()  # 多クラス分類のための交差エントロピー損失\n",
    "optimizer = optim.Adam(model.parameters(), lr=learning_rate)  # Adamオプティマイザ"
   ]
  },
  {
   "cell_type": "code",
   "execution_count": 8,
   "metadata": {},
   "outputs": [],
   "source": [
    "# 訓練関数を定義します\n",
    "def train(epoch):\n",
    "    model.train()  # モデルを訓練モードに設定\n",
    "    train_loss = 0\n",
    "    correct = 0\n",
    "    total = 0\n",
    "    progress = IntProgress(min=0, max=len(train_loader))\n",
    "    display(progress)\n",
    "\n",
    "    for batch_idx, (data, target) in enumerate(train_loader):\n",
    "        data, target = data.to(device), target.to(device)  # データをGPUに移動\n",
    "        optimizer.zero_grad()  # 勾配をゼロに初期化\n",
    "        output = model(data)  # モデルの出力を計算\n",
    "        loss = criterion(output, target)  # 損失を計算\n",
    "        loss.backward()  # 逆伝播で勾配を計算\n",
    "        optimizer.step()  # パラメータを更新\n",
    "\n",
    "        train_loss += loss.item()\n",
    "        _, predicted = output.max(1)\n",
    "        total += target.size(0)\n",
    "        correct += predicted.eq(target).sum().item()\n",
    "        progress.value += 1\n",
    "\n",
    "    return train_loss / len(train_loader), 100.0 * correct / total"
   ]
  },
  {
   "cell_type": "code",
   "execution_count": 9,
   "metadata": {},
   "outputs": [],
   "source": [
    "# テスト関数を定義します\n",
    "def test():\n",
    "    model.eval()  # モデルを評価モードに設定\n",
    "    test_loss = 0\n",
    "    correct = 0\n",
    "    total = 0\n",
    "    with torch.no_grad():  # 勾配計算を無効化\n",
    "        for data, target in test_loader:\n",
    "            data, target = data.to(device), target.to(device)\n",
    "            output = model(data)\n",
    "            loss = criterion(output, target)\n",
    "            test_loss += loss.item()\n",
    "            _, predicted = output.max(1)\n",
    "            total += target.size(0)\n",
    "            correct += predicted.eq(target).sum().item()\n",
    "\n",
    "    return test_loss / len(test_loader), 100.0 * correct / total"
   ]
  },
  {
   "cell_type": "code",
   "execution_count": 10,
   "metadata": {},
   "outputs": [
    {
     "name": "stdout",
     "output_type": "stream",
     "text": [
      "エポック 1/10\n"
     ]
    },
    {
     "data": {
      "application/vnd.jupyter.widget-view+json": {
       "model_id": "bdebb8846d40405c88fd7b70c56ba347",
       "version_major": 2,
       "version_minor": 0
      },
      "text/plain": [
       "IntProgress(value=0, max=938)"
      ]
     },
     "metadata": {},
     "output_type": "display_data"
    },
    {
     "name": "stdout",
     "output_type": "stream",
     "text": [
      "訓練損失: 0.6476, 訓練精度: 78.63%\n",
      "テスト損失: 0.1960, テスト精度: 93.94%\n",
      "エポック 2/10\n"
     ]
    },
    {
     "data": {
      "application/vnd.jupyter.widget-view+json": {
       "model_id": "aa392e0329e847d8acc8c22eaa1bccc0",
       "version_major": 2,
       "version_minor": 0
      },
      "text/plain": [
       "IntProgress(value=0, max=938)"
      ]
     },
     "metadata": {},
     "output_type": "display_data"
    },
    {
     "name": "stdout",
     "output_type": "stream",
     "text": [
      "訓練損失: 0.1962, 訓練精度: 94.13%\n",
      "テスト損失: 0.1366, テスト精度: 95.70%\n",
      "エポック 3/10\n"
     ]
    },
    {
     "data": {
      "application/vnd.jupyter.widget-view+json": {
       "model_id": "6ea5ecaef12c45d7ba1e4d4006740d0f",
       "version_major": 2,
       "version_minor": 0
      },
      "text/plain": [
       "IntProgress(value=0, max=938)"
      ]
     },
     "metadata": {},
     "output_type": "display_data"
    },
    {
     "name": "stdout",
     "output_type": "stream",
     "text": [
      "訓練損失: 0.1458, 訓練精度: 95.54%\n",
      "テスト損失: 0.0896, テスト精度: 97.07%\n",
      "エポック 4/10\n"
     ]
    },
    {
     "data": {
      "application/vnd.jupyter.widget-view+json": {
       "model_id": "83a7229fe05c4d25bac835124a7e318f",
       "version_major": 2,
       "version_minor": 0
      },
      "text/plain": [
       "IntProgress(value=0, max=938)"
      ]
     },
     "metadata": {},
     "output_type": "display_data"
    },
    {
     "name": "stdout",
     "output_type": "stream",
     "text": [
      "訓練損失: 0.1183, 訓練精度: 96.31%\n",
      "テスト損失: 0.0912, テスト精度: 97.16%\n",
      "エポック 5/10\n"
     ]
    },
    {
     "data": {
      "application/vnd.jupyter.widget-view+json": {
       "model_id": "6874107347994f118c8276414efb48e3",
       "version_major": 2,
       "version_minor": 0
      },
      "text/plain": [
       "IntProgress(value=0, max=938)"
      ]
     },
     "metadata": {},
     "output_type": "display_data"
    },
    {
     "name": "stdout",
     "output_type": "stream",
     "text": [
      "訓練損失: 0.1020, 訓練精度: 96.88%\n",
      "テスト損失: 0.0659, テスト精度: 98.02%\n",
      "エポック 6/10\n"
     ]
    },
    {
     "data": {
      "application/vnd.jupyter.widget-view+json": {
       "model_id": "95f154af3b164de18253175138550b9d",
       "version_major": 2,
       "version_minor": 0
      },
      "text/plain": [
       "IntProgress(value=0, max=938)"
      ]
     },
     "metadata": {},
     "output_type": "display_data"
    },
    {
     "name": "stdout",
     "output_type": "stream",
     "text": [
      "訓練損失: 0.0906, 訓練精度: 97.22%\n",
      "テスト損失: 0.0651, テスト精度: 98.10%\n",
      "エポック 7/10\n"
     ]
    },
    {
     "data": {
      "application/vnd.jupyter.widget-view+json": {
       "model_id": "eeb4e8b2ddea454e9526de17c9478755",
       "version_major": 2,
       "version_minor": 0
      },
      "text/plain": [
       "IntProgress(value=0, max=938)"
      ]
     },
     "metadata": {},
     "output_type": "display_data"
    },
    {
     "name": "stdout",
     "output_type": "stream",
     "text": [
      "訓練損失: 0.0784, 訓練精度: 97.61%\n",
      "テスト損失: 0.0666, テスト精度: 98.00%\n",
      "エポック 8/10\n"
     ]
    },
    {
     "data": {
      "application/vnd.jupyter.widget-view+json": {
       "model_id": "2d5576c2adc74213ba485cc3194e57e2",
       "version_major": 2,
       "version_minor": 0
      },
      "text/plain": [
       "IntProgress(value=0, max=938)"
      ]
     },
     "metadata": {},
     "output_type": "display_data"
    },
    {
     "name": "stdout",
     "output_type": "stream",
     "text": [
      "訓練損失: 0.0747, 訓練精度: 97.72%\n",
      "テスト損失: 0.0535, テスト精度: 98.25%\n",
      "エポック 9/10\n"
     ]
    },
    {
     "data": {
      "application/vnd.jupyter.widget-view+json": {
       "model_id": "26136f948e76463087a23f7898314ded",
       "version_major": 2,
       "version_minor": 0
      },
      "text/plain": [
       "IntProgress(value=0, max=938)"
      ]
     },
     "metadata": {},
     "output_type": "display_data"
    },
    {
     "name": "stdout",
     "output_type": "stream",
     "text": [
      "訓練損失: 0.0679, 訓練精度: 97.88%\n",
      "テスト損失: 0.0468, テスト精度: 98.47%\n",
      "エポック 10/10\n"
     ]
    },
    {
     "data": {
      "application/vnd.jupyter.widget-view+json": {
       "model_id": "af0b827663504bc3a4b1eb3a4a26e6a3",
       "version_major": 2,
       "version_minor": 0
      },
      "text/plain": [
       "IntProgress(value=0, max=938)"
      ]
     },
     "metadata": {},
     "output_type": "display_data"
    },
    {
     "name": "stdout",
     "output_type": "stream",
     "text": [
      "訓練損失: 0.0612, 訓練精度: 98.09%\n",
      "テスト損失: 0.0466, テスト精度: 98.53%\n"
     ]
    }
   ],
   "source": [
    "# 訓練ループ\n",
    "train_losses = []\n",
    "test_losses = []\n",
    "train_accuracies = []\n",
    "test_accuracies = []\n",
    "\n",
    "for epoch in range(1, num_epochs + 1):\n",
    "    print(f\"エポック {epoch}/{num_epochs}\")\n",
    "    train_loss, train_acc = train(epoch)\n",
    "    test_loss, test_acc = test()\n",
    "\n",
    "    train_losses.append(train_loss)\n",
    "    test_losses.append(test_loss)\n",
    "    train_accuracies.append(train_acc)\n",
    "    test_accuracies.append(test_acc)\n",
    "\n",
    "    print(f\"訓練損失: {train_loss:.4f}, 訓練精度: {train_acc:.2f}%\")\n",
    "    print(f\"テスト損失: {test_loss:.4f}, テスト精度: {test_acc:.2f}%\")"
   ]
  },
  {
   "cell_type": "code",
   "execution_count": 11,
   "metadata": {},
   "outputs": [
    {
     "name": "stdout",
     "output_type": "stream",
     "text": [
      "モデルを'swin_transformer_mnist.pth'として保存しました\n"
     ]
    }
   ],
   "source": [
    "# モデルを保存します\n",
    "torch.save(model.state_dict(), 'swin_transformer_mnist.pth')\n",
    "print(\"モデルを'swin_transformer_mnist.pth'として保存しました\")"
   ]
  },
  {
   "cell_type": "code",
   "execution_count": 13,
   "metadata": {},
   "outputs": [
    {
     "data": {
      "image/png": "[encoded data removed]",
      "text/plain": [
       "<Figure size 1200x400 with 2 Axes>"
      ]
     },
     "metadata": {},
     "output_type": "display_data"
    }
   ],
   "source": [
    "# 結果をプロットします\n",
    "plt.figure(figsize=(12, 4))\n",
    "plt.subplot(1, 2, 1)\n",
    "plt.plot(range(1, num_epochs + 1), train_losses, label=\"Train\")\n",
    "plt.plot(range(1, num_epochs + 1), test_losses, label=\"Test\")\n",
    "plt.xlabel(\"Epoch\")\n",
    "plt.ylabel(\"Loss\")\n",
    "plt.legend()\n",
    "plt.title(\"Loss per Epoch\")\n",
    "\n",
    "plt.subplot(1, 2, 2)\n",
    "plt.plot(range(1, num_epochs + 1), train_accuracies, label=\"Train\")\n",
    "plt.plot(range(1, num_epochs + 1), test_accuracies, label=\"Test\")\n",
    "plt.xlabel(\"Epoch\")\n",
    "plt.ylabel(\"Accuracy (%)\")\n",
    "plt.legend()\n",
    "plt.title(\"Accuracy per Epoch\")\n",
    "\n",
    "plt.tight_layout()\n",
    "plt.show()"
   ]
  },
  {
   "cell_type": "code",
   "execution_count": null,
   "metadata": {},
   "outputs": [],
   "source": []
  },
  {
   "cell_type": "code",
   "execution_count": null,
   "metadata": {},
   "outputs": [],
   "source": []
  }
 ],
 "metadata": {
  "kernelspec": {
   "display_name": "Python 3 (ipykernel)",
   "language": "python",
   "name": "python3"
  },
  "language_info": {
   "codemirror_mode": {
    "name": "ipython",
    "version": 3
   },
   "file_extension": ".py",
   "mimetype": "text/x-python",
   "name": "python",
   "nbconvert_exporter": "python",
   "pygments_lexer": "ipython3",
   "version": "3.10.13"
  }
 },
 "nbformat": 4,
 "nbformat_minor": 4
}
